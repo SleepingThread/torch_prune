{
 "cells": [
  {
   "cell_type": "code",
   "execution_count": null,
   "metadata": {},
   "outputs": [],
   "source": [
    "import os\n",
    "os.environ[\"CUDA_VISIBLE_DEVICES\"] = \"0\"\n",
    "\n",
    "import torch\n",
    "import sys\n",
    "sys.path.append(\"../../\")  # path to torch_prune module\n",
    "\n",
    "from torch_prune import vgg_train_config \n",
    "\n",
    "vgg_train_config.data_path = \"<path_to_data>\"\n",
    "vgg_train_config.checkpoint_path = \"<path to checkpoint>\"\n",
    "vgg_train_config.tb_logdir = \"<cifar10_board/cifar10_vd_1e-4>\"\n",
    "vgg_train_config.scheduler_T_max = 1000\n",
    "\n",
    "vgg_train_config.use_vd = True\n",
    "vgg_train_config.vd_config = {\n",
    "    \"vd_lambda\": 1.0e-4,\n",
    "    \"constructor\": {\n",
    "        \n",
    "    }\n",
    "}\n",
    "\n",
    "from torch_prune.vgg_vd_train import train, test, net, scheduler, vd"
   ]
  },
  {
   "cell_type": "code",
   "execution_count": null,
   "metadata": {},
   "outputs": [],
   "source": [
    "%% time\n",
    "start_epoch = 0\n",
    "\n",
    "for epoch in range(start_epoch, start_epoch + 1000):\n",
    "    train(epoch)\n",
    "    test(epoch)\n",
    "    scheduler.step()"
   ]
  },
  {
   "cell_type": "code",
   "execution_count": null,
   "metadata": {},
   "outputs": [],
   "source": [
    "torch.save(net.state_dict(), \"<path to file>\")"
   ]
  }
 ],
 "metadata": {
  "kernelspec": {
   "display_name": "Python 3",
   "language": "python",
   "name": "python3"
  },
  "language_info": {
   "codemirror_mode": {
    "name": "ipython",
    "version": 3
   },
   "file_extension": ".py",
   "mimetype": "text/x-python",
   "name": "python",
   "nbconvert_exporter": "python",
   "pygments_lexer": "ipython3",
   "version": "3.7.3"
  }
 },
 "nbformat": 4,
 "nbformat_minor": 4
}
